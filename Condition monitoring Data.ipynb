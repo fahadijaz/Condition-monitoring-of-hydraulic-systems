{
 "cells": [
  {
   "cell_type": "markdown",
   "metadata": {
    "run_control": {
     "marked": true
    }
   },
   "source": [
    "# Import data from TXT files"
   ]
  },
  {
   "cell_type": "code",
   "execution_count": 5,
   "metadata": {},
   "outputs": [],
   "source": [
    "import numpy as np\n",
    "import pandas as pd\n",
    "import matplotlib.pyplot as plt\n",
    "import datetime as dt\n",
    "import seaborn as sns\n",
    "from sklearn.preprocessing import StandardScaler\n",
    "from sklearn.pipeline import Pipeline\n",
    "from sklearn.model_selection import train_test_split\n",
    "from sklearn.preprocessing import OneHotEncoder\n",
    "from sklearn.preprocessing import LabelBinarizer\n",
    "from sklearn.preprocessing import LabelEncoder\n",
    "from sklearn.metrics import confusion_matrix, classification_report, f1_score\n",
    "import xgboost as xgb\n",
    "import os"
   ]
  },
  {
   "cell_type": "code",
   "execution_count": 6,
   "metadata": {},
   "outputs": [
    {
     "name": "stdout",
     "output_type": "stream",
     "text": [
      "18.4375 seconds\n"
     ]
    }
   ],
   "source": [
    "import time\n",
    "start_time = time.process_time()\n",
    "\n",
    "import pandas as pd\n",
    "df_ps1 = pd.read_csv(\"data/PS1.txt\", header=None, sep='\\t')\n",
    "df_ps2 = pd.read_csv(\"data/PS2.txt\", header=None, sep='\\t')\n",
    "df_ps3 = pd.read_csv(\"data/PS3.txt\", header=None, sep='\\t')\n",
    "df_ps4 = pd.read_csv(\"data/PS4.txt\", header=None, sep='\\t')\n",
    "df_ps5 = pd.read_csv(\"data/PS5.txt\", header=None, sep='\\t')\n",
    "df_ps6 = pd.read_csv(\"data/PS6.txt\", header=None, sep='\\t')\n",
    "df_eps1 = pd.read_csv(\"data/EPS1.txt\", header=None, sep='\\t')\n",
    "df_fs1 = pd.read_csv(\"data/FS1.txt\", header=None, sep='\\t')\n",
    "df_fs2 = pd.read_csv(\"data/FS2.txt\", header=None, sep='\\t')\n",
    "df_ts1 = pd.read_csv(\"data/TS1.txt\", header=None, sep='\\t')\n",
    "df_ts2 = pd.read_csv(\"data/TS2.txt\", header=None, sep='\\t')\n",
    "df_ts3 = pd.read_csv(\"data/TS3.txt\", header=None, sep='\\t')\n",
    "df_ts4 = pd.read_csv(\"data/TS4.txt\", header=None, sep='\\t')\n",
    "df_vs1 = pd.read_csv(\"data/VS1.txt\", header=None, sep='\\t')\n",
    "df_ce = pd.read_csv(\"data/CE.txt\", header=None, sep='\\t')\n",
    "df_cp = pd.read_csv(\"data/CP.txt\", header=None, sep='\\t')\n",
    "df_se = pd.read_csv(\"data/SE.txt\", header=None, sep='\\t')\n",
    "df_profile = pd.read_csv(\"data/profile.txt\", header=None, sep='\\t')\n",
    "\n",
    "end_time = time.process_time()\n",
    "print(end_time - start_time, \"seconds\")"
   ]
  },
  {
   "cell_type": "code",
   "execution_count": 7,
   "metadata": {},
   "outputs": [
    {
     "name": "stdout",
     "output_type": "stream",
     "text": [
      "(2205, 6000)\n",
      "(2205, 6000)\n",
      "(2205, 6000)\n",
      "(2205, 6000)\n",
      "(2205, 6000)\n",
      "(2205, 6000)\n",
      "(2205, 6000)\n",
      "(2205, 600)\n",
      "(2205, 600)\n",
      "(2205, 60)\n",
      "(2205, 60)\n",
      "(2205, 60)\n",
      "(2205, 60)\n",
      "(2205, 60)\n",
      "(2205, 60)\n",
      "(2205, 60)\n",
      "(2205, 60)\n",
      "(2205, 5)\n"
     ]
    }
   ],
   "source": [
    "data_list = [\n",
    "    df_ps1, df_ps2, df_ps3, df_ps4, df_ps5, df_ps6, df_eps1, df_fs1, df_fs2,\n",
    "    df_ts1, df_ts2, df_ts3, df_ts4, df_vs1, df_ce, df_cp, df_se, df_profile\n",
    "]\n",
    "\n",
    "for x in data_list:\n",
    "    print(x.shape)"
   ]
  },
  {
   "cell_type": "markdown",
   "metadata": {},
   "source": [
    "### Sensor File Descriptions\n",
    "Attribute Information:\n",
    "The data set contains raw process sensor data (i.e. without feature extraction) which \n",
    "are structured as matrices (tab-delimited) with the rows representing the cycles and \n",
    "the columns the data points within a cycle. The sensors involved are:\n",
    "\n",
    "|Sensor\t\t|Physical quantity\t\t\t\t|Unit\t|Sampling rate|\n",
    "|-----------|-------------------------------|-------|-------------|\n",
    "|PS1\t\t|Pressure\t\t\t\t\t\t|bar\t|       100 Hz|\n",
    "|PS2\t\t|Pressure\t\t\t\t\t\t|bar\t|       100 Hz|\n",
    "|PS3\t\t|Pressure\t\t\t\t\t\t|bar\t|\t\t100 Hz|\n",
    "|PS4\t\t|Pressure\t\t\t\t\t\t|bar\t|\t\t100 Hz|\n",
    "|PS5\t\t|Pressure\t\t\t\t\t\t|bar\t|\t\t100 Hz|\n",
    "|PS6\t\t|Pressure\t\t\t\t\t\t|bar\t|\t\t100 Hz|\n",
    "|EPS1\t\t|Motor power\t\t\t\t    |W\t\t|\t\t100 Hz|\n",
    "|FS1\t\t|Volume flow\t\t\t\t\t|l/min\t|\t\t 10 Hz|\n",
    "|FS2\t\t|Volume flow\t\t\t\t\t|l/min\t|\t\t 10 Hz|\n",
    "|TS1\t\t|Temperature\t\t\t\t\t|&deg;C\t|\t\t  1 Hz|\n",
    "|TS2\t\t|Temperature\t\t\t\t\t|&deg;C\t|\t\t  1 Hz|\n",
    "|TS3\t\t|Temperature\t\t\t\t\t|&deg;C |\t\t  1 Hz|\n",
    "|TS4\t\t|Temperature\t\t\t\t\t|&deg;C |\t\t  1 Hz|\n",
    "|VS1\t\t|Vibration\t\t\t\t\t\t|mm/s\t|\t\t  1 Hz|\n",
    "|CE\t\t\t|Cooling efficiency (virtual)\t|%\t\t|\t\t  1 Hz|\n",
    "|CP\t\t\t|Cooling power (virtual)\t\t|kW\t\t|\t\t  1 Hz|\n",
    "|SE\t\t\t|Efficiency factor\t\t\t\t|%\t\t|\t\t  1 Hz|"
   ]
  },
  {
   "cell_type": "markdown",
   "metadata": {},
   "source": [
    "'''\n",
    "\n",
    "The target condition values are cycle-wise annotated in â€˜profile.txtâ€˜ (tab-delimited).\n",
    "As before, the row number represents the cycle number. The columns are\n",
    "\n",
    "1: Cooler condition / %:\n",
    "3: close to total failure\n",
    "20: reduced effifiency\n",
    "100: full efficiency\n",
    "\n",
    "2: Valve condition / %:\n",
    "100: optimal switching behavior\n",
    "90: small lag\n",
    "80: severe lag\n",
    "73: close to total failure\n",
    "\n",
    "3: Internal pump leakage:\n",
    "0: no leakage\n",
    "1: weak leakage\n",
    "2: severe leakage\n",
    "\n",
    "4: Hydraulic accumulator / bar:\n",
    "130: optimal pressure\n",
    "115: slightly reduced pressure\n",
    "100: severely reduced pressure\n",
    "90: close to total failure\n",
    "\n",
    "5: stable flag:\n",
    "0: conditions were stable\n",
    "1: static conditions might not have been reached yet\n",
    "\n",
    "'''"
   ]
  },
  {
   "cell_type": "code",
   "execution_count": 9,
   "metadata": {},
   "outputs": [],
   "source": [
    "import inspect\n",
    "\n",
    "\n",
    "def retrieve_name(var):\n",
    "        \"\"\"\n",
    "        Gets the name of var. Does it from the out most frame inner-wards.\n",
    "        :param var: variable to get name from.\n",
    "        :return: string\n",
    "        \"\"\"\n",
    "        for fi in reversed(inspect.stack()):\n",
    "            names = [var_name for var_name, var_val in fi.frame.f_locals.items() if var_val is var]\n",
    "            if len(names) > 0:\n",
    "                return names[0]\n"
   ]
  },
  {
   "cell_type": "markdown",
   "metadata": {},
   "source": [
    "# Preprocessing"
   ]
  },
  {
   "cell_type": "markdown",
   "metadata": {},
   "source": [
    "## Downsampling"
   ]
  },
  {
   "cell_type": "code",
   "execution_count": 10,
   "metadata": {},
   "outputs": [],
   "source": [
    "y_coolerCondition = pd.DataFrame(df_profile.iloc[:, 0])\n",
    "y_valveCondition = pd.DataFrame(df_profile.iloc[:, 1])\n",
    "y_pumpLeak = pd.DataFrame(df_profile.iloc[:, 2])\n",
    "y_hydraulicAcc = pd.DataFrame(df_profile.iloc[:, 3])\n",
    "y_stableFlag = pd.DataFrame(df_profile.iloc[:, 4])"
   ]
  },
  {
   "cell_type": "code",
   "execution_count": 11,
   "metadata": {},
   "outputs": [],
   "source": [
    "#average the cycle data\n",
    "\n",
    "\n",
    "def mean_conversion(df):\n",
    "    df1 = pd.DataFrame()\n",
    "    df1 = df.mean(axis=1)\n",
    "    return df1"
   ]
  },
  {
   "cell_type": "code",
   "execution_count": 12,
   "metadata": {},
   "outputs": [],
   "source": [
    "PS1 = pd.DataFrame(mean_conversion(df_ps1))\n",
    "PS1.columns = ['PS1']\n",
    "\n",
    "PS2 = pd.DataFrame(mean_conversion(df_ps2))\n",
    "PS2.columns = ['PS2']\n",
    "\n",
    "PS3 = pd.DataFrame(mean_conversion(df_ps3))\n",
    "PS3.columns = ['PS3']\n",
    "\n",
    "PS4 = pd.DataFrame(mean_conversion(df_ps4))\n",
    "PS4.columns = ['PS4']\n",
    "\n",
    "PS5 = pd.DataFrame(mean_conversion(df_ps5))\n",
    "PS5.columns = ['PS5']\n",
    "\n",
    "PS6 = pd.DataFrame(mean_conversion(df_ps6))\n",
    "PS6.columns = ['PS6']\n",
    "\n",
    "FS1 = pd.DataFrame(mean_conversion(df_fs1))\n",
    "FS1.columns = ['FS1']\n",
    "\n",
    "FS2 = pd.DataFrame(mean_conversion(df_fs2))\n",
    "FS2.columns = ['FS2']\n",
    "\n",
    "TS1 = pd.DataFrame(mean_conversion(df_ts1))\n",
    "TS1.columns = ['TS1']\n",
    "\n",
    "TS2 = pd.DataFrame(mean_conversion(df_ts2))\n",
    "TS2.columns = ['TS2']\n",
    "\n",
    "TS3 = pd.DataFrame(mean_conversion(df_ts3))\n",
    "TS3.columns = ['TS3']\n",
    "\n",
    "TS4 = pd.DataFrame(mean_conversion(df_ts4))\n",
    "TS4.columns = ['TS4']\n",
    "\n",
    "P1 = pd.DataFrame(mean_conversion(df_eps1))\n",
    "P1.columns = ['P1']\n",
    "\n",
    "VS1 = pd.DataFrame(mean_conversion(df_vs1))\n",
    "VS1.columns = ['VS1']\n",
    "\n",
    "CE1 = pd.DataFrame(mean_conversion(df_ce))\n",
    "CE1.columns = ['CE1']\n",
    "\n",
    "CP1 = pd.DataFrame(mean_conversion(df_cp))\n",
    "CP1.columns = ['CP1']\n",
    "\n",
    "SE1 = pd.DataFrame(mean_conversion(df_se))\n",
    "SE1.columns = ['SE1']"
   ]
  },
  {
   "cell_type": "code",
   "execution_count": 13,
   "metadata": {},
   "outputs": [],
   "source": [
    "#combine all dataframes\n",
    "\n",
    "X = pd.concat([\n",
    "    PS1, PS2, PS3, PS4, PS5, PS6, FS1, FS2, TS1, TS2, TS3, TS4, P1, VS1, CE1,\n",
    "    CP1, SE1\n",
    "],\n",
    "              axis=1)"
   ]
  },
  {
   "cell_type": "code",
   "execution_count": 14,
   "metadata": {},
   "outputs": [
    {
     "data": {
      "text/plain": [
       "(2205, 17)"
      ]
     },
     "execution_count": 14,
     "metadata": {},
     "output_type": "execute_result"
    }
   ],
   "source": [
    "X.shape"
   ]
  },
  {
   "cell_type": "code",
   "execution_count": 16,
   "metadata": {},
   "outputs": [
    {
     "data": {
      "text/plain": [
       "array([[<matplotlib.axes._subplots.AxesSubplot object at 0x00000202DFBA6208>,\n",
       "        <matplotlib.axes._subplots.AxesSubplot object at 0x00000202E0656988>,\n",
       "        <matplotlib.axes._subplots.AxesSubplot object at 0x00000202E0693788>,\n",
       "        <matplotlib.axes._subplots.AxesSubplot object at 0x00000202E06CA888>],\n",
       "       [<matplotlib.axes._subplots.AxesSubplot object at 0x00000202E07049C8>,\n",
       "        <matplotlib.axes._subplots.AxesSubplot object at 0x00000202E073DAC8>,\n",
       "        <matplotlib.axes._subplots.AxesSubplot object at 0x00000202E0775B48>,\n",
       "        <matplotlib.axes._subplots.AxesSubplot object at 0x00000202E07ABC88>],\n",
       "       [<matplotlib.axes._subplots.AxesSubplot object at 0x00000202E07B7888>,\n",
       "        <matplotlib.axes._subplots.AxesSubplot object at 0x00000202E07EEA48>,\n",
       "        <matplotlib.axes._subplots.AxesSubplot object at 0x00000202E0853FC8>,\n",
       "        <matplotlib.axes._subplots.AxesSubplot object at 0x00000202E0890088>],\n",
       "       [<matplotlib.axes._subplots.AxesSubplot object at 0x00000202E08C8188>,\n",
       "        <matplotlib.axes._subplots.AxesSubplot object at 0x00000202E09002C8>,\n",
       "        <matplotlib.axes._subplots.AxesSubplot object at 0x00000202E09383C8>,\n",
       "        <matplotlib.axes._subplots.AxesSubplot object at 0x00000202E096F4C8>],\n",
       "       [<matplotlib.axes._subplots.AxesSubplot object at 0x00000202E09A6588>,\n",
       "        <matplotlib.axes._subplots.AxesSubplot object at 0x00000202E09E3E88>,\n",
       "        <matplotlib.axes._subplots.AxesSubplot object at 0x00000202E0A16848>,\n",
       "        <matplotlib.axes._subplots.AxesSubplot object at 0x00000202E0A4DA48>]],\n",
       "      dtype=object)"
      ]
     },
     "execution_count": 16,
     "metadata": {},
     "output_type": "execute_result"
    },
    {
     "data": {
      "image/png": "[encoded data removed]",
      "text/plain": [
       "<Figure size 1440x1080 with 20 Axes>"
      ]
     },
     "metadata": {
      "needs_background": "light"
     },
     "output_type": "display_data"
    }
   ],
   "source": [
    "#Lets draw histogram of each value\n",
    "\n",
    "X.hist(bins=50, figsize=(20, 15))"
   ]
  },
  {
   "cell_type": "markdown",
   "metadata": {},
   "source": [
    "let's get a correlation matix between various sensor parameters"
   ]
  },
  {
   "cell_type": "code",
   "execution_count": 24,
   "metadata": {},
   "outputs": [
    {
     "data": {
      "text/plain": [
       "<matplotlib.axes._subplots.AxesSubplot at 0x202e315a808>"
      ]
     },
     "execution_count": 24,
     "metadata": {},
     "output_type": "execute_result"
    },
    {
     "data": {
      "image/png": "[encoded data removed]",
      "text/plain": [
       "<Figure size 792x648 with 2 Axes>"
      ]
     },
     "metadata": {
      "needs_background": "light"
     },
     "output_type": "display_data"
    }
   ],
   "source": [
    "corr_matrix = X.corr()\n",
    "\n",
    "#plot heat map for correlation matrix (from https://seaborn.pydata.org/examples/many_pairwise_correlations.html)\n",
    "\n",
    "# Generate a mask for the upper triangle\n",
    "mask = np.zeros_like(corr_matrix, dtype=np.bool)\n",
    "mask[np.triu_indices_from(mask)] = True\n",
    "\n",
    "# Set up the matplotlib figure\n",
    "f, ax = plt.subplots(figsize=(11, 9))\n",
    "\n",
    "# Generate a custom diverging colormap\n",
    "cmap = sns.diverging_palette(220, 10, as_cmap=True)\n",
    "\n",
    "# Draw the heatmap with the mask and correct aspect ratio\n",
    "sns.heatmap(corr_matrix,\n",
    "            mask=mask,\n",
    "            cmap=cmap,\n",
    "            vmax=.3,\n",
    "            center=0,\n",
    "            square=True,\n",
    "            linewidths=.5,\n",
    "            cbar_kws={\"shrink\": .5})"
   ]
  },
  {
   "cell_type": "markdown",
   "metadata": {},
   "source": [
    "Some of the features seems to be highly correlated. Let's normalize these parameters and do PCA"
   ]
  },
  {
   "cell_type": "code",
   "execution_count": 25,
   "metadata": {},
   "outputs": [
    {
     "data": {
      "text/plain": [
       "Text(0.5, 1.0, 'PCA explained variance vs. n componets')"
      ]
     },
     "execution_count": 25,
     "metadata": {},
     "output_type": "execute_result"
    },
    {
     "data": {
      "image/png": "[encoded data removed]",
      "text/plain": [
       "<Figure size 1080x720 with 1 Axes>"
      ]
     },
     "metadata": {
      "needs_background": "light"
     },
     "output_type": "display_data"
    }
   ],
   "source": [
    "#normalize the X values\n",
    "X_normalize = StandardScaler().fit_transform(X)\n",
    "\n",
    "#apply PCA to visulaize the data in cluster\n",
    "from sklearn.decomposition import PCA\n",
    "#find explained variance and n_components\n",
    "\n",
    "pca = PCA()\n",
    "pca.fit(X_normalize)\n",
    "plt.figure(figsize=(15, 10))\n",
    "plt.plot(pca.explained_variance_, linewidth=2)\n",
    "plt.axis('tight')\n",
    "plt.xlabel('n_components')\n",
    "plt.ylabel('explained_variance_')\n",
    "plt.ylim(-0.5, 2)\n",
    "plt.title('PCA explained variance vs. n componets')"
   ]
  },
  {
   "cell_type": "code",
   "execution_count": 26,
   "metadata": {},
   "outputs": [
    {
     "name": "stdout",
     "output_type": "stream",
     "text": [
      "(2205, 17)\n",
      "(2205, 2)\n"
     ]
    },
    {
     "data": {
      "text/plain": [
       "Text(0.5, 1.0, 'Clustering of data when PCA dimension =2')"
      ]
     },
     "execution_count": 26,
     "metadata": {},
     "output_type": "execute_result"
    },
    {
     "data": {
      "image/png": "[encoded data removed]",
      "text/plain": [
       "<Figure size 1080x720 with 1 Axes>"
      ]
     },
     "metadata": {
      "needs_background": "light"
     },
     "output_type": "display_data"
    }
   ],
   "source": [
    "#observe distribution when n_componets =2\n",
    "pca_2 = PCA(2)\n",
    "projected = pca_2.fit_transform(X_normalize)\n",
    "print(X.shape)\n",
    "print(projected.shape)\n",
    "plt.figure(figsize=(15, 10))\n",
    "plt.scatter(projected[:, 0], projected[:, 1])\n",
    "plt.xlabel('PCA (Dim=1)')\n",
    "plt.ylabel('PCA (Dim=2)')\n",
    "plt.title('Clustering of data when PCA dimension =2')"
   ]
  },
  {
   "cell_type": "code",
   "execution_count": null,
   "metadata": {},
   "outputs": [],
   "source": []
  },
  {
   "cell_type": "code",
   "execution_count": null,
   "metadata": {},
   "outputs": [],
   "source": []
  },
  {
   "cell_type": "code",
   "execution_count": null,
   "metadata": {},
   "outputs": [],
   "source": []
  },
  {
   "cell_type": "code",
   "execution_count": null,
   "metadata": {},
   "outputs": [],
   "source": []
  },
  {
   "cell_type": "markdown",
   "metadata": {},
   "source": [
    "# Machine Learning"
   ]
  },
  {
   "cell_type": "code",
   "execution_count": 27,
   "metadata": {},
   "outputs": [],
   "source": [
    "def predict_pump_performance(X, y, predictType):\n",
    "    X_train, X_test, y_train, y_test = train_test_split(X,\n",
    "                                                        y,\n",
    "                                                        test_size=0.2,\n",
    "                                                        random_state=24)\n",
    "\n",
    "    X_test, X_val, y_test, y_val = train_test_split(X_test,\n",
    "                                                    y_test,\n",
    "                                                    test_size=0.5,\n",
    "                                                    random_state=24)\n",
    "\n",
    "    #we will use xgboost to do the classification\n",
    "    seed = 24\n",
    "    xgb1 = xgb.sklearn.XGBClassifier(learning_rate=0.1,\n",
    "                                     n_estimators=100,\n",
    "                                     max_depth=5,\n",
    "                                     min_child_weight=11,\n",
    "                                     gamma=0.1,\n",
    "                                     subsample=0.8,\n",
    "                                     colsample_bytree=0.7,\n",
    "                                     objective='multi:softprob',\n",
    "                                     n_jobs=-1,\n",
    "                                     scale_pos_weight=1,\n",
    "                                     seed=seed)\n",
    "\n",
    "    xgb1.fit(X_train, y_train)\n",
    "\n",
    "    y_pred = xgb1.predict(X_val)\n",
    "\n",
    "    #confusion matrix and classification report\n",
    "\n",
    "    cm = confusion_matrix(y_val, y_pred)\n",
    "\n",
    "    print(classification_report(y_val, y_pred))\n",
    "\n",
    "    fig, ax = plt.subplots(figsize=(15, 10))\n",
    "    ind = np.arange(17)\n",
    "    width = 0.15\n",
    "    feature_importtance = xgb1.feature_importances_\n",
    "    rect1 = ax.bar(ind + width, feature_importtance)\n",
    "    ax.set_xticks(ind + width / 2)\n",
    "    ax.set_xticklabels(\n",
    "        ('PS1', 'PS2', 'PS3', 'PS4', 'PS5', 'PS6', 'FS1', 'FS2', 'TS1', 'TS2',\n",
    "         'TS3', 'TS4', 'P1', 'VS1', 'CE1', 'CP1', 'SE1'))\n",
    "    ax.set_ylabel('Importance')\n",
    "    ax.set_xlabel('Measurements')\n",
    "    ax.set_title('Relative Imporatnce of various measurements to predict ' +\n",
    "                 predictType)\n",
    "    #plt.show()"
   ]
  },
  {
   "cell_type": "code",
   "execution_count": 28,
   "metadata": {},
   "outputs": [
    {
     "name": "stderr",
     "output_type": "stream",
     "text": [
      "C:\\ProgramData\\Anaconda3\\lib\\site-packages\\sklearn\\preprocessing\\_label.py:235: DataConversionWarning: A column-vector y was passed when a 1d array was expected. Please change the shape of y to (n_samples, ), for example using ravel().\n",
      "  y = column_or_1d(y, warn=True)\n",
      "C:\\ProgramData\\Anaconda3\\lib\\site-packages\\sklearn\\preprocessing\\_label.py:268: DataConversionWarning: A column-vector y was passed when a 1d array was expected. Please change the shape of y to (n_samples, ), for example using ravel().\n",
      "  y = column_or_1d(y, warn=True)\n"
     ]
    },
    {
     "name": "stdout",
     "output_type": "stream",
     "text": [
      "              precision    recall  f1-score   support\n",
      "\n",
      "           3       1.00      1.00      1.00        82\n",
      "          20       1.00      1.00      1.00        70\n",
      "         100       1.00      1.00      1.00        69\n",
      "\n",
      "    accuracy                           1.00       221\n",
      "   macro avg       1.00      1.00      1.00       221\n",
      "weighted avg       1.00      1.00      1.00       221\n",
      "\n"
     ]
    },
    {
     "data": {
      "image/png": "[encoded data removed]",
      "text/plain": [
       "<Figure size 1080x720 with 1 Axes>"
      ]
     },
     "metadata": {
      "needs_background": "light"
     },
     "output_type": "display_data"
    }
   ],
   "source": [
    "#let's predict the cooling failure\n",
    "predict_pump_performance(X_normalize, y_coolerCondition, 'cooling failure')"
   ]
  },
  {
   "cell_type": "markdown",
   "metadata": {},
   "source": [
    "Since we looking for cooling performance it make sense that the cooling efficiency and colling power are important features. Seems like pressure sensors 1 and 2 are also important, most likely due to pumping more coolant to maintain the pump at desired temperatures."
   ]
  },
  {
   "cell_type": "markdown",
   "metadata": {},
   "source": [
    "Let's predict valve condition"
   ]
  },
  {
   "cell_type": "code",
   "execution_count": 29,
   "metadata": {},
   "outputs": [
    {
     "name": "stderr",
     "output_type": "stream",
     "text": [
      "C:\\ProgramData\\Anaconda3\\lib\\site-packages\\sklearn\\preprocessing\\_label.py:235: DataConversionWarning: A column-vector y was passed when a 1d array was expected. Please change the shape of y to (n_samples, ), for example using ravel().\n",
      "  y = column_or_1d(y, warn=True)\n",
      "C:\\ProgramData\\Anaconda3\\lib\\site-packages\\sklearn\\preprocessing\\_label.py:268: DataConversionWarning: A column-vector y was passed when a 1d array was expected. Please change the shape of y to (n_samples, ), for example using ravel().\n",
      "  y = column_or_1d(y, warn=True)\n"
     ]
    },
    {
     "name": "stdout",
     "output_type": "stream",
     "text": [
      "              precision    recall  f1-score   support\n",
      "\n",
      "          73       0.95      0.97      0.96        39\n",
      "          80       0.97      0.95      0.96        41\n",
      "          90       0.84      0.84      0.84        31\n",
      "         100       0.96      0.96      0.96       110\n",
      "\n",
      "    accuracy                           0.95       221\n",
      "   macro avg       0.93      0.93      0.93       221\n",
      "weighted avg       0.95      0.95      0.95       221\n",
      "\n"
     ]
    },
    {
     "data": {
      "image/png": "[encoded data removed]",
      "text/plain": [
       "<Figure size 1080x720 with 1 Axes>"
      ]
     },
     "metadata": {
      "needs_background": "light"
     },
     "output_type": "display_data"
    }
   ],
   "source": [
    "predict_pump_performance(X_normalize, y_valveCondition, 'valve condition')"
   ]
  },
  {
   "cell_type": "markdown",
   "metadata": {},
   "source": [
    "Here volume flow is an important feature, as switching behavior of the valve might be affecting the flow of hydraulic fluid"
   ]
  },
  {
   "cell_type": "markdown",
   "metadata": {},
   "source": [
    "Let's predict pump leaks"
   ]
  },
  {
   "cell_type": "code",
   "execution_count": 30,
   "metadata": {},
   "outputs": [
    {
     "name": "stderr",
     "output_type": "stream",
     "text": [
      "C:\\ProgramData\\Anaconda3\\lib\\site-packages\\sklearn\\preprocessing\\_label.py:235: DataConversionWarning: A column-vector y was passed when a 1d array was expected. Please change the shape of y to (n_samples, ), for example using ravel().\n",
      "  y = column_or_1d(y, warn=True)\n",
      "C:\\ProgramData\\Anaconda3\\lib\\site-packages\\sklearn\\preprocessing\\_label.py:268: DataConversionWarning: A column-vector y was passed when a 1d array was expected. Please change the shape of y to (n_samples, ), for example using ravel().\n",
      "  y = column_or_1d(y, warn=True)\n"
     ]
    },
    {
     "name": "stdout",
     "output_type": "stream",
     "text": [
      "              precision    recall  f1-score   support\n",
      "\n",
      "           0       1.00      0.99      1.00       125\n",
      "           1       0.96      0.98      0.97        54\n",
      "           2       0.98      0.98      0.98        42\n",
      "\n",
      "    accuracy                           0.99       221\n",
      "   macro avg       0.98      0.98      0.98       221\n",
      "weighted avg       0.99      0.99      0.99       221\n",
      "\n"
     ]
    },
    {
     "data": {
      "image/png": "[encoded data removed]",
      "text/plain": [
       "<Figure size 1080x720 with 1 Axes>"
      ]
     },
     "metadata": {
      "needs_background": "light"
     },
     "output_type": "display_data"
    }
   ],
   "source": [
    "predict_pump_performance(X_normalize, y_pumpLeak, 'pump leaks')"
   ]
  },
  {
   "cell_type": "markdown",
   "metadata": {},
   "source": [
    "Here again voulme flow is an important feature as leaking pump can have severe effect of the flow of hydraulic fluid. Addtionally, efficiency factor is important as sever leak will have an effect on the efficiency of the rig."
   ]
  },
  {
   "cell_type": "markdown",
   "metadata": {},
   "source": [
    "Let's predict hydrualic accumulator condition"
   ]
  },
  {
   "cell_type": "code",
   "execution_count": 31,
   "metadata": {},
   "outputs": [
    {
     "name": "stderr",
     "output_type": "stream",
     "text": [
      "C:\\ProgramData\\Anaconda3\\lib\\site-packages\\sklearn\\preprocessing\\_label.py:235: DataConversionWarning: A column-vector y was passed when a 1d array was expected. Please change the shape of y to (n_samples, ), for example using ravel().\n",
      "  y = column_or_1d(y, warn=True)\n",
      "C:\\ProgramData\\Anaconda3\\lib\\site-packages\\sklearn\\preprocessing\\_label.py:268: DataConversionWarning: A column-vector y was passed when a 1d array was expected. Please change the shape of y to (n_samples, ), for example using ravel().\n",
      "  y = column_or_1d(y, warn=True)\n"
     ]
    },
    {
     "name": "stdout",
     "output_type": "stream",
     "text": [
      "              precision    recall  f1-score   support\n",
      "\n",
      "          90       1.00      0.95      0.97        78\n",
      "         100       0.92      0.95      0.94        38\n",
      "         115       0.92      1.00      0.96        36\n",
      "         130       1.00      1.00      1.00        69\n",
      "\n",
      "    accuracy                           0.97       221\n",
      "   macro avg       0.96      0.97      0.97       221\n",
      "weighted avg       0.97      0.97      0.97       221\n",
      "\n"
     ]
    },
    {
     "data": {
      "image/png": "[encoded data removed]",
      "text/plain": [
       "<Figure size 1080x720 with 1 Axes>"
      ]
     },
     "metadata": {
      "needs_background": "light"
     },
     "output_type": "display_data"
    }
   ],
   "source": [
    "predict_pump_performance(X_normalize, y_hydraulicAcc,\n",
    "                         'hydraulic accumulator condition')"
   ]
  },
  {
   "cell_type": "markdown",
   "metadata": {},
   "source": [
    "In the case of hydraulic accumulator condition, seems like volume flow is an important feature, but rest of the features are also important."
   ]
  },
  {
   "cell_type": "markdown",
   "metadata": {},
   "source": [
    "Conclusions:\n",
    "\n",
    "We are able to predict various pump failure conditions, with a very high level of accuracy (F1 score > 0.94 in all cases and > 0.99 in 2 cases)"
   ]
  },
  {
   "cell_type": "code",
   "execution_count": null,
   "metadata": {},
   "outputs": [],
   "source": []
  },
  {
   "cell_type": "code",
   "execution_count": null,
   "metadata": {},
   "outputs": [],
   "source": []
  },
  {
   "cell_type": "code",
   "execution_count": null,
   "metadata": {},
   "outputs": [],
   "source": []
  },
  {
   "cell_type": "markdown",
   "metadata": {},
   "source": [
    "## Neural Networks"
   ]
  },
  {
   "cell_type": "code",
   "execution_count": 6,
   "metadata": {},
   "outputs": [],
   "source": [
    "import os\n",
    "import pandas as pd\n",
    "import numpy as np\n",
    "\n",
    "import seaborn as sns\n",
    "import matplotlib.pyplot as plt\n",
    "import plotly.express as px\n",
    "\n",
    "from sklearn.model_selection import train_test_split\n",
    "from sklearn.cross_decomposition import PLSRegression\n",
    "\n",
    "from sklearn.model_selection import cross_validate\n",
    "from sklearn.model_selection import cross_val_score\n",
    "from sklearn.model_selection import GridSearchCV\n",
    "\n",
    "from sklearn import metrics\n",
    "from sklearn.metrics import explained_variance_score\n",
    "from sklearn.metrics import max_error\n",
    "from sklearn.metrics import mean_absolute_error\n",
    "from sklearn.metrics import mean_squared_error\n",
    "from sklearn.metrics import mean_squared_error\n",
    "from sklearn.metrics import mean_squared_log_error\n",
    "from sklearn.metrics import median_absolute_error\n",
    "from sklearn.metrics import r2_score\n",
    "from sklearn.metrics import mean_poisson_deviance\n",
    "from sklearn.metrics import mean_gamma_deviance"
   ]
  },
  {
   "cell_type": "code",
   "execution_count": 7,
   "metadata": {},
   "outputs": [
    {
     "name": "stdout",
     "output_type": "stream",
     "text": [
      "Label shape = (2205, 3)\n"
     ]
    }
   ],
   "source": [
    "from tensorflow.keras.utils import to_categorical\n",
    "\n",
    "label = df_profile\n",
    "label = to_categorical(label[0].factorize()[0])\n",
    "\n",
    "print('Label shape = {}'.format(label.shape))"
   ]
  },
  {
   "cell_type": "code",
   "execution_count": null,
   "metadata": {},
   "outputs": [],
   "source": []
  },
  {
   "cell_type": "code",
   "execution_count": 9,
   "metadata": {},
   "outputs": [],
   "source": [
    "df = pd.DataFrame()\n",
    "for i in data_list:\n",
    "    df = df.append(i)"
   ]
  },
  {
   "cell_type": "code",
   "execution_count": 10,
   "metadata": {},
   "outputs": [
    {
     "data": {
      "text/html": [
       "<div>\n",
       "<style scoped>\n",
       "    .dataframe tbody tr th:only-of-type {\n",
       "        vertical-align: middle;\n",
       "    }\n",
       "\n",
       "    .dataframe tbody tr th {\n",
       "        vertical-align: top;\n",
       "    }\n",
       "\n",
       "    .dataframe thead th {\n",
       "        text-align: right;\n",
       "    }\n",
       "</style>\n",
       "<table border=\"1\" class=\"dataframe\">\n",
       "  <thead>\n",
       "    <tr style=\"text-align: right;\">\n",
       "      <th></th>\n",
       "      <th>0</th>\n",
       "      <th>1</th>\n",
       "      <th>2</th>\n",
       "      <th>3</th>\n",
       "      <th>4</th>\n",
       "      <th>5</th>\n",
       "      <th>6</th>\n",
       "      <th>7</th>\n",
       "      <th>8</th>\n",
       "      <th>9</th>\n",
       "      <th>...</th>\n",
       "      <th>5990</th>\n",
       "      <th>5991</th>\n",
       "      <th>5992</th>\n",
       "      <th>5993</th>\n",
       "      <th>5994</th>\n",
       "      <th>5995</th>\n",
       "      <th>5996</th>\n",
       "      <th>5997</th>\n",
       "      <th>5998</th>\n",
       "      <th>5999</th>\n",
       "    </tr>\n",
       "  </thead>\n",
       "  <tbody>\n",
       "    <tr>\n",
       "      <th>0</th>\n",
       "      <td>151.47</td>\n",
       "      <td>151.45</td>\n",
       "      <td>151.52</td>\n",
       "      <td>151.27</td>\n",
       "      <td>150.80</td>\n",
       "      <td>150.69</td>\n",
       "      <td>153.89</td>\n",
       "      <td>154.67</td>\n",
       "      <td>152.88</td>\n",
       "      <td>153.82</td>\n",
       "      <td>...</td>\n",
       "      <td>151.16</td>\n",
       "      <td>151.19</td>\n",
       "      <td>151.25</td>\n",
       "      <td>151.16</td>\n",
       "      <td>151.10</td>\n",
       "      <td>151.16</td>\n",
       "      <td>151.14</td>\n",
       "      <td>151.10</td>\n",
       "      <td>151.21</td>\n",
       "      <td>151.19</td>\n",
       "    </tr>\n",
       "    <tr>\n",
       "      <th>1</th>\n",
       "      <td>151.11</td>\n",
       "      <td>151.12</td>\n",
       "      <td>151.16</td>\n",
       "      <td>150.92</td>\n",
       "      <td>150.70</td>\n",
       "      <td>150.62</td>\n",
       "      <td>152.40</td>\n",
       "      <td>153.21</td>\n",
       "      <td>152.81</td>\n",
       "      <td>153.53</td>\n",
       "      <td>...</td>\n",
       "      <td>150.82</td>\n",
       "      <td>150.82</td>\n",
       "      <td>150.86</td>\n",
       "      <td>150.80</td>\n",
       "      <td>150.73</td>\n",
       "      <td>150.79</td>\n",
       "      <td>150.84</td>\n",
       "      <td>150.79</td>\n",
       "      <td>150.80</td>\n",
       "      <td>150.86</td>\n",
       "    </tr>\n",
       "    <tr>\n",
       "      <th>2</th>\n",
       "      <td>150.81</td>\n",
       "      <td>150.79</td>\n",
       "      <td>150.84</td>\n",
       "      <td>150.65</td>\n",
       "      <td>150.35</td>\n",
       "      <td>150.23</td>\n",
       "      <td>152.03</td>\n",
       "      <td>152.81</td>\n",
       "      <td>152.44</td>\n",
       "      <td>153.27</td>\n",
       "      <td>...</td>\n",
       "      <td>150.49</td>\n",
       "      <td>150.44</td>\n",
       "      <td>150.47</td>\n",
       "      <td>150.46</td>\n",
       "      <td>150.38</td>\n",
       "      <td>150.47</td>\n",
       "      <td>150.50</td>\n",
       "      <td>150.43</td>\n",
       "      <td>150.54</td>\n",
       "      <td>150.62</td>\n",
       "    </tr>\n",
       "    <tr>\n",
       "      <th>3</th>\n",
       "      <td>150.48</td>\n",
       "      <td>150.47</td>\n",
       "      <td>150.52</td>\n",
       "      <td>150.31</td>\n",
       "      <td>150.04</td>\n",
       "      <td>149.98</td>\n",
       "      <td>151.63</td>\n",
       "      <td>152.48</td>\n",
       "      <td>152.24</td>\n",
       "      <td>152.94</td>\n",
       "      <td>...</td>\n",
       "      <td>150.34</td>\n",
       "      <td>150.30</td>\n",
       "      <td>150.28</td>\n",
       "      <td>150.38</td>\n",
       "      <td>150.41</td>\n",
       "      <td>150.33</td>\n",
       "      <td>150.31</td>\n",
       "      <td>150.31</td>\n",
       "      <td>150.25</td>\n",
       "      <td>150.28</td>\n",
       "    </tr>\n",
       "    <tr>\n",
       "      <th>4</th>\n",
       "      <td>150.41</td>\n",
       "      <td>150.35</td>\n",
       "      <td>150.24</td>\n",
       "      <td>150.12</td>\n",
       "      <td>149.87</td>\n",
       "      <td>149.71</td>\n",
       "      <td>151.64</td>\n",
       "      <td>152.37</td>\n",
       "      <td>151.78</td>\n",
       "      <td>152.68</td>\n",
       "      <td>...</td>\n",
       "      <td>150.31</td>\n",
       "      <td>150.20</td>\n",
       "      <td>150.17</td>\n",
       "      <td>150.28</td>\n",
       "      <td>150.31</td>\n",
       "      <td>150.25</td>\n",
       "      <td>150.27</td>\n",
       "      <td>150.22</td>\n",
       "      <td>150.13</td>\n",
       "      <td>150.19</td>\n",
       "    </tr>\n",
       "    <tr>\n",
       "      <th>...</th>\n",
       "      <td>...</td>\n",
       "      <td>...</td>\n",
       "      <td>...</td>\n",
       "      <td>...</td>\n",
       "      <td>...</td>\n",
       "      <td>...</td>\n",
       "      <td>...</td>\n",
       "      <td>...</td>\n",
       "      <td>...</td>\n",
       "      <td>...</td>\n",
       "      <td>...</td>\n",
       "      <td>...</td>\n",
       "      <td>...</td>\n",
       "      <td>...</td>\n",
       "      <td>...</td>\n",
       "      <td>...</td>\n",
       "      <td>...</td>\n",
       "      <td>...</td>\n",
       "      <td>...</td>\n",
       "      <td>...</td>\n",
       "      <td>...</td>\n",
       "    </tr>\n",
       "    <tr>\n",
       "      <th>2200</th>\n",
       "      <td>100.00</td>\n",
       "      <td>100.00</td>\n",
       "      <td>0.00</td>\n",
       "      <td>90.00</td>\n",
       "      <td>0.00</td>\n",
       "      <td>NaN</td>\n",
       "      <td>NaN</td>\n",
       "      <td>NaN</td>\n",
       "      <td>NaN</td>\n",
       "      <td>NaN</td>\n",
       "      <td>...</td>\n",
       "      <td>NaN</td>\n",
       "      <td>NaN</td>\n",
       "      <td>NaN</td>\n",
       "      <td>NaN</td>\n",
       "      <td>NaN</td>\n",
       "      <td>NaN</td>\n",
       "      <td>NaN</td>\n",
       "      <td>NaN</td>\n",
       "      <td>NaN</td>\n",
       "      <td>NaN</td>\n",
       "    </tr>\n",
       "    <tr>\n",
       "      <th>2201</th>\n",
       "      <td>100.00</td>\n",
       "      <td>100.00</td>\n",
       "      <td>0.00</td>\n",
       "      <td>90.00</td>\n",
       "      <td>0.00</td>\n",
       "      <td>NaN</td>\n",
       "      <td>NaN</td>\n",
       "      <td>NaN</td>\n",
       "      <td>NaN</td>\n",
       "      <td>NaN</td>\n",
       "      <td>...</td>\n",
       "      <td>NaN</td>\n",
       "      <td>NaN</td>\n",
       "      <td>NaN</td>\n",
       "      <td>NaN</td>\n",
       "      <td>NaN</td>\n",
       "      <td>NaN</td>\n",
       "      <td>NaN</td>\n",
       "      <td>NaN</td>\n",
       "      <td>NaN</td>\n",
       "      <td>NaN</td>\n",
       "    </tr>\n",
       "    <tr>\n",
       "      <th>2202</th>\n",
       "      <td>100.00</td>\n",
       "      <td>100.00</td>\n",
       "      <td>0.00</td>\n",
       "      <td>90.00</td>\n",
       "      <td>0.00</td>\n",
       "      <td>NaN</td>\n",
       "      <td>NaN</td>\n",
       "      <td>NaN</td>\n",
       "      <td>NaN</td>\n",
       "      <td>NaN</td>\n",
       "      <td>...</td>\n",
       "      <td>NaN</td>\n",
       "      <td>NaN</td>\n",
       "      <td>NaN</td>\n",
       "      <td>NaN</td>\n",
       "      <td>NaN</td>\n",
       "      <td>NaN</td>\n",
       "      <td>NaN</td>\n",
       "      <td>NaN</td>\n",
       "      <td>NaN</td>\n",
       "      <td>NaN</td>\n",
       "    </tr>\n",
       "    <tr>\n",
       "      <th>2203</th>\n",
       "      <td>100.00</td>\n",
       "      <td>100.00</td>\n",
       "      <td>0.00</td>\n",
       "      <td>90.00</td>\n",
       "      <td>0.00</td>\n",
       "      <td>NaN</td>\n",
       "      <td>NaN</td>\n",
       "      <td>NaN</td>\n",
       "      <td>NaN</td>\n",
       "      <td>NaN</td>\n",
       "      <td>...</td>\n",
       "      <td>NaN</td>\n",
       "      <td>NaN</td>\n",
       "      <td>NaN</td>\n",
       "      <td>NaN</td>\n",
       "      <td>NaN</td>\n",
       "      <td>NaN</td>\n",
       "      <td>NaN</td>\n",
       "      <td>NaN</td>\n",
       "      <td>NaN</td>\n",
       "      <td>NaN</td>\n",
       "    </tr>\n",
       "    <tr>\n",
       "      <th>2204</th>\n",
       "      <td>100.00</td>\n",
       "      <td>100.00</td>\n",
       "      <td>0.00</td>\n",
       "      <td>90.00</td>\n",
       "      <td>0.00</td>\n",
       "      <td>NaN</td>\n",
       "      <td>NaN</td>\n",
       "      <td>NaN</td>\n",
       "      <td>NaN</td>\n",
       "      <td>NaN</td>\n",
       "      <td>...</td>\n",
       "      <td>NaN</td>\n",
       "      <td>NaN</td>\n",
       "      <td>NaN</td>\n",
       "      <td>NaN</td>\n",
       "      <td>NaN</td>\n",
       "      <td>NaN</td>\n",
       "      <td>NaN</td>\n",
       "      <td>NaN</td>\n",
       "      <td>NaN</td>\n",
       "      <td>NaN</td>\n",
       "    </tr>\n",
       "  </tbody>\n",
       "</table>\n",
       "<p>39690 rows × 6000 columns</p>\n",
       "</div>"
      ],
      "text/plain": [
       "        0       1       2       3       4       5       6       7       8     \\\n",
       "0     151.47  151.45  151.52  151.27  150.80  150.69  153.89  154.67  152.88   \n",
       "1     151.11  151.12  151.16  150.92  150.70  150.62  152.40  153.21  152.81   \n",
       "2     150.81  150.79  150.84  150.65  150.35  150.23  152.03  152.81  152.44   \n",
       "3     150.48  150.47  150.52  150.31  150.04  149.98  151.63  152.48  152.24   \n",
       "4     150.41  150.35  150.24  150.12  149.87  149.71  151.64  152.37  151.78   \n",
       "...      ...     ...     ...     ...     ...     ...     ...     ...     ...   \n",
       "2200  100.00  100.00    0.00   90.00    0.00     NaN     NaN     NaN     NaN   \n",
       "2201  100.00  100.00    0.00   90.00    0.00     NaN     NaN     NaN     NaN   \n",
       "2202  100.00  100.00    0.00   90.00    0.00     NaN     NaN     NaN     NaN   \n",
       "2203  100.00  100.00    0.00   90.00    0.00     NaN     NaN     NaN     NaN   \n",
       "2204  100.00  100.00    0.00   90.00    0.00     NaN     NaN     NaN     NaN   \n",
       "\n",
       "        9     ...    5990    5991    5992    5993    5994    5995    5996  \\\n",
       "0     153.82  ...  151.16  151.19  151.25  151.16  151.10  151.16  151.14   \n",
       "1     153.53  ...  150.82  150.82  150.86  150.80  150.73  150.79  150.84   \n",
       "2     153.27  ...  150.49  150.44  150.47  150.46  150.38  150.47  150.50   \n",
       "3     152.94  ...  150.34  150.30  150.28  150.38  150.41  150.33  150.31   \n",
       "4     152.68  ...  150.31  150.20  150.17  150.28  150.31  150.25  150.27   \n",
       "...      ...  ...     ...     ...     ...     ...     ...     ...     ...   \n",
       "2200     NaN  ...     NaN     NaN     NaN     NaN     NaN     NaN     NaN   \n",
       "2201     NaN  ...     NaN     NaN     NaN     NaN     NaN     NaN     NaN   \n",
       "2202     NaN  ...     NaN     NaN     NaN     NaN     NaN     NaN     NaN   \n",
       "2203     NaN  ...     NaN     NaN     NaN     NaN     NaN     NaN     NaN   \n",
       "2204     NaN  ...     NaN     NaN     NaN     NaN     NaN     NaN     NaN   \n",
       "\n",
       "        5997    5998    5999  \n",
       "0     151.10  151.21  151.19  \n",
       "1     150.79  150.80  150.86  \n",
       "2     150.43  150.54  150.62  \n",
       "3     150.31  150.25  150.28  \n",
       "4     150.22  150.13  150.19  \n",
       "...      ...     ...     ...  \n",
       "2200     NaN     NaN     NaN  \n",
       "2201     NaN     NaN     NaN  \n",
       "2202     NaN     NaN     NaN  \n",
       "2203     NaN     NaN     NaN  \n",
       "2204     NaN     NaN     NaN  \n",
       "\n",
       "[39690 rows x 6000 columns]"
      ]
     },
     "execution_count": 10,
     "metadata": {},
     "output_type": "execute_result"
    }
   ],
   "source": [
    "df"
   ]
  },
  {
   "cell_type": "code",
   "execution_count": null,
   "metadata": {},
   "outputs": [],
   "source": [
    "df = df.apply(normalize)\n",
    "df = df.sort_index().values.reshape(-1, 4, 60).transpose(0, 2, 1)\n",
    "\n",
    "print('DataFrame shape = {}'.format(df.shape))"
   ]
  },
  {
   "cell_type": "code",
   "execution_count": 1,
   "metadata": {},
   "outputs": [
    {
     "name": "stdout",
     "output_type": "stream",
     "text": [
      "2.2.0\n"
     ]
    }
   ],
   "source": [
    "import tensorflow as tf\n",
    "print(tf.__version__)"
   ]
  },
  {
   "cell_type": "code",
   "execution_count": null,
   "metadata": {},
   "outputs": [],
   "source": []
  },
  {
   "cell_type": "code",
   "execution_count": null,
   "metadata": {},
   "outputs": [],
   "source": []
  },
  {
   "cell_type": "code",
   "execution_count": null,
   "metadata": {},
   "outputs": [],
   "source": []
  },
  {
   "cell_type": "code",
   "execution_count": null,
   "metadata": {},
   "outputs": [],
   "source": []
  },
  {
   "cell_type": "code",
   "execution_count": null,
   "metadata": {},
   "outputs": [],
   "source": []
  },
  {
   "cell_type": "code",
   "execution_count": null,
   "metadata": {},
   "outputs": [],
   "source": []
  },
  {
   "cell_type": "code",
   "execution_count": null,
   "metadata": {},
   "outputs": [],
   "source": []
  },
  {
   "cell_type": "code",
   "execution_count": null,
   "metadata": {},
   "outputs": [],
   "source": []
  }
 ],
 "metadata": {
  "hide_input": false,
  "kernelspec": {
   "display_name": "Python 3",
   "language": "python",
   "name": "python3"
  },
  "language_info": {
   "codemirror_mode": {
    "name": "ipython",
    "version": 3
   },
   "file_extension": ".py",
   "mimetype": "text/x-python",
   "name": "python",
   "nbconvert_exporter": "python",
   "pygments_lexer": "ipython3",
   "version": "3.7.6"
  },
  "toc": {
   "base_numbering": 1,
   "nav_menu": {},
   "number_sections": true,
   "sideBar": true,
   "skip_h1_title": false,
   "title_cell": "Table of Contents",
   "title_sidebar": "Contents",
   "toc_cell": false,
   "toc_position": {},
   "toc_section_display": true,
   "toc_window_display": false
  },
  "varInspector": {
   "cols": {
    "lenName": 16,
    "lenType": 16,
    "lenVar": 40
   },
   "kernels_config": {
    "python": {
     "delete_cmd_postfix": "",
     "delete_cmd_prefix": "del ",
     "library": "var_list.py",
     "varRefreshCmd": "print(var_dic_list())"
    },
    "r": {
     "delete_cmd_postfix": ") ",
     "delete_cmd_prefix": "rm(",
     "library": "var_list.r",
     "varRefreshCmd": "cat(var_dic_list()) "
    }
   },
   "types_to_exclude": [
    "module",
    "function",
    "builtin_function_or_method",
    "instance",
    "_Feature"
   ],
   "window_display": false
  }
 },
 "nbformat": 4,
 "nbformat_minor": 4
}
