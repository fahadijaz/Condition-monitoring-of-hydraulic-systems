{
 "cells": [
  {
   "cell_type": "markdown",
   "metadata": {
    "run_control": {
     "marked": true
    }
   },
   "source": [
    "# Import data from TXT files"
   ]
  },
  {
   "cell_type": "code",
   "execution_count": 1,
   "metadata": {},
   "outputs": [
    {
     "name": "stdout",
     "output_type": "stream",
     "text": [
      "22.125 seconds\n"
     ]
    }
   ],
   "source": [
    "import time\n",
    "start_time = time.process_time()\n",
    "\n",
    "import pandas as pd\n",
    "df_ps1 = pd.read_csv(\"data/PS1.txt\", header=None, sep='\\t')\n",
    "df_ps2 = pd.read_csv(\"data/PS2.txt\", header=None, sep='\\t')\n",
    "df_ps3 = pd.read_csv(\"data/PS3.txt\", header=None, sep='\\t')\n",
    "df_ps4 = pd.read_csv(\"data/PS4.txt\", header=None, sep='\\t')\n",
    "df_ps5 = pd.read_csv(\"data/PS5.txt\", header=None, sep='\\t')\n",
    "df_ps6 = pd.read_csv(\"data/PS6.txt\", header=None, sep='\\t')\n",
    "df_eps1 = pd.read_csv(\"data/EPS1.txt\", header=None, sep='\\t')\n",
    "df_fs1 = pd.read_csv(\"data/FS1.txt\", header=None, sep='\\t')\n",
    "df_fs2 = pd.read_csv(\"data/FS2.txt\", header=None, sep='\\t')\n",
    "df_ts1 = pd.read_csv(\"data/TS1.txt\", header=None, sep='\\t')\n",
    "df_ts2 = pd.read_csv(\"data/TS2.txt\", header=None, sep='\\t')\n",
    "df_ts3 = pd.read_csv(\"data/TS3.txt\", header=None, sep='\\t')\n",
    "df_ts4 = pd.read_csv(\"data/TS4.txt\", header=None, sep='\\t')\n",
    "df_vs1 = pd.read_csv(\"data/VS1.txt\", header=None, sep='\\t')\n",
    "df_ce = pd.read_csv(\"data/CE.txt\", header=None, sep='\\t')\n",
    "df_cp = pd.read_csv(\"data/CP.txt\", header=None, sep='\\t')\n",
    "df_se = pd.read_csv(\"data/SE.txt\", header=None, sep='\\t')\n",
    "df_profile = pd.read_csv(\"data/profile.txt\", header=None, sep='\\t')\n",
    "\n",
    "end_time = time.process_time()\n",
    "print(end_time - start_time, \"seconds\")"
   ]
  },
  {
   "cell_type": "code",
   "execution_count": 2,
   "metadata": {},
   "outputs": [
    {
     "name": "stdout",
     "output_type": "stream",
     "text": [
      "(2205, 6000)\n",
      "(2205, 6000)\n",
      "(2205, 6000)\n",
      "(2205, 6000)\n",
      "(2205, 6000)\n",
      "(2205, 6000)\n",
      "(2205, 6000)\n",
      "(2205, 600)\n",
      "(2205, 600)\n",
      "(2205, 60)\n",
      "(2205, 60)\n",
      "(2205, 60)\n",
      "(2205, 60)\n",
      "(2205, 60)\n",
      "(2205, 60)\n",
      "(2205, 60)\n",
      "(2205, 60)\n",
      "(2205, 5)\n"
     ]
    }
   ],
   "source": [
    "data_list = [\n",
    "    df_ps1, df_ps2, df_ps3, df_ps4, df_ps5, df_ps6, df_eps1, df_fs1, df_fs2,\n",
    "    df_ts1, df_ts2, df_ts3, df_ts4, df_vs1, df_ce, df_cp, df_se, df_profile\n",
    "]\n",
    "\n",
    "for x in data_list:\n",
    "    print(x.shape)"
   ]
  },
  {
   "cell_type": "code",
   "execution_count": 3,
   "metadata": {},
   "outputs": [
    {
     "data": {
      "text/plain": [
       "'\\nAttribute Information:\\nThe data set contains raw process sensor data (i.e. without feature extraction) which \\nare structured as matrices (tab-delimited) with the rows representing the cycles and \\nthe columns the data points within a cycle. The sensors involved are:\\n\\nSensor Physical quantity Unit Sampling rate\\nPS1 Pressure bar 100 Hz\\nPS2 Pressure bar 100 Hz\\nPS3 Pressure bar 100 Hz\\nPS4 Pressure bar 100 Hz\\nPS5 Pressure bar 100 Hz\\nPS6 Pressure bar 100 Hz\\nEPS1 Motor power W 100 Hz\\nFS1 Volume flow l/min 10 Hz\\nFS2 Volume flow l/min 10 Hz\\nTS1 Temperature Â°C 1 Hz\\nTS2 Temperature Â°C 1 Hz\\nTS3 Temperature Â°C 1 Hz\\nTS4 Temperature Â°C 1 Hz\\nVS1 Vibration mm/s 1 Hz\\nCE Cooling efficiency (virtual) % 1 Hz\\nCP Cooling power (virtual) kW 1 Hz\\nSE Efficiency factor % 1 Hz\\n'"
      ]
     },
     "execution_count": 3,
     "metadata": {},
     "output_type": "execute_result"
    }
   ],
   "source": [
    "'''\n",
    "Attribute Information:\n",
    "The data set contains raw process sensor data (i.e. without feature extraction) which \n",
    "are structured as matrices (tab-delimited) with the rows representing the cycles and \n",
    "the columns the data points within a cycle. The sensors involved are:\n",
    "\n",
    "Sensor Physical quantity Unit Sampling rate\n",
    "PS1 Pressure bar 100 Hz\n",
    "PS2 Pressure bar 100 Hz\n",
    "PS3 Pressure bar 100 Hz\n",
    "PS4 Pressure bar 100 Hz\n",
    "PS5 Pressure bar 100 Hz\n",
    "PS6 Pressure bar 100 Hz\n",
    "EPS1 Motor power W 100 Hz\n",
    "FS1 Volume flow l/min 10 Hz\n",
    "FS2 Volume flow l/min 10 Hz\n",
    "TS1 Temperature Â°C 1 Hz\n",
    "TS2 Temperature Â°C 1 Hz\n",
    "TS3 Temperature Â°C 1 Hz\n",
    "TS4 Temperature Â°C 1 Hz\n",
    "VS1 Vibration mm/s 1 Hz\n",
    "CE Cooling efficiency (virtual) % 1 Hz\n",
    "CP Cooling power (virtual) kW 1 Hz\n",
    "SE Efficiency factor % 1 Hz\n",
    "'''"
   ]
  },
  {
   "cell_type": "code",
   "execution_count": 4,
   "metadata": {},
   "outputs": [
    {
     "data": {
      "text/html": [
       "<div>\n",
       "<style scoped>\n",
       "    .dataframe tbody tr th:only-of-type {\n",
       "        vertical-align: middle;\n",
       "    }\n",
       "\n",
       "    .dataframe tbody tr th {\n",
       "        vertical-align: top;\n",
       "    }\n",
       "\n",
       "    .dataframe thead th {\n",
       "        text-align: right;\n",
       "    }\n",
       "</style>\n",
       "<table border=\"1\" class=\"dataframe\">\n",
       "  <thead>\n",
       "    <tr style=\"text-align: right;\">\n",
       "      <th></th>\n",
       "      <th>Cooler</th>\n",
       "      <th>Valve</th>\n",
       "      <th>Internal pump leakage</th>\n",
       "      <th>Hydraulic accumulator / bar</th>\n",
       "      <th>stable flag</th>\n",
       "    </tr>\n",
       "  </thead>\n",
       "  <tbody>\n",
       "    <tr>\n",
       "      <th>0</th>\n",
       "      <td>3</td>\n",
       "      <td>100</td>\n",
       "      <td>0</td>\n",
       "      <td>130</td>\n",
       "      <td>1</td>\n",
       "    </tr>\n",
       "    <tr>\n",
       "      <th>1</th>\n",
       "      <td>3</td>\n",
       "      <td>100</td>\n",
       "      <td>0</td>\n",
       "      <td>130</td>\n",
       "      <td>1</td>\n",
       "    </tr>\n",
       "    <tr>\n",
       "      <th>2</th>\n",
       "      <td>3</td>\n",
       "      <td>100</td>\n",
       "      <td>0</td>\n",
       "      <td>130</td>\n",
       "      <td>1</td>\n",
       "    </tr>\n",
       "    <tr>\n",
       "      <th>3</th>\n",
       "      <td>3</td>\n",
       "      <td>100</td>\n",
       "      <td>0</td>\n",
       "      <td>130</td>\n",
       "      <td>1</td>\n",
       "    </tr>\n",
       "    <tr>\n",
       "      <th>4</th>\n",
       "      <td>3</td>\n",
       "      <td>100</td>\n",
       "      <td>0</td>\n",
       "      <td>130</td>\n",
       "      <td>1</td>\n",
       "    </tr>\n",
       "    <tr>\n",
       "      <th>...</th>\n",
       "      <td>...</td>\n",
       "      <td>...</td>\n",
       "      <td>...</td>\n",
       "      <td>...</td>\n",
       "      <td>...</td>\n",
       "    </tr>\n",
       "    <tr>\n",
       "      <th>2200</th>\n",
       "      <td>100</td>\n",
       "      <td>100</td>\n",
       "      <td>0</td>\n",
       "      <td>90</td>\n",
       "      <td>0</td>\n",
       "    </tr>\n",
       "    <tr>\n",
       "      <th>2201</th>\n",
       "      <td>100</td>\n",
       "      <td>100</td>\n",
       "      <td>0</td>\n",
       "      <td>90</td>\n",
       "      <td>0</td>\n",
       "    </tr>\n",
       "    <tr>\n",
       "      <th>2202</th>\n",
       "      <td>100</td>\n",
       "      <td>100</td>\n",
       "      <td>0</td>\n",
       "      <td>90</td>\n",
       "      <td>0</td>\n",
       "    </tr>\n",
       "    <tr>\n",
       "      <th>2203</th>\n",
       "      <td>100</td>\n",
       "      <td>100</td>\n",
       "      <td>0</td>\n",
       "      <td>90</td>\n",
       "      <td>0</td>\n",
       "    </tr>\n",
       "    <tr>\n",
       "      <th>2204</th>\n",
       "      <td>100</td>\n",
       "      <td>100</td>\n",
       "      <td>0</td>\n",
       "      <td>90</td>\n",
       "      <td>0</td>\n",
       "    </tr>\n",
       "  </tbody>\n",
       "</table>\n",
       "<p>2205 rows × 5 columns</p>\n",
       "</div>"
      ],
      "text/plain": [
       "      Cooler  Valve  Internal pump leakage  Hydraulic accumulator / bar  \\\n",
       "0          3    100                      0                          130   \n",
       "1          3    100                      0                          130   \n",
       "2          3    100                      0                          130   \n",
       "3          3    100                      0                          130   \n",
       "4          3    100                      0                          130   \n",
       "...      ...    ...                    ...                          ...   \n",
       "2200     100    100                      0                           90   \n",
       "2201     100    100                      0                           90   \n",
       "2202     100    100                      0                           90   \n",
       "2203     100    100                      0                           90   \n",
       "2204     100    100                      0                           90   \n",
       "\n",
       "      stable flag  \n",
       "0               1  \n",
       "1               1  \n",
       "2               1  \n",
       "3               1  \n",
       "4               1  \n",
       "...           ...  \n",
       "2200            0  \n",
       "2201            0  \n",
       "2202            0  \n",
       "2203            0  \n",
       "2204            0  \n",
       "\n",
       "[2205 rows x 5 columns]"
      ]
     },
     "execution_count": 4,
     "metadata": {},
     "output_type": "execute_result"
    }
   ],
   "source": [
    "# Assigning column headers to df_profile\n",
    "\n",
    "profile_headers = [\n",
    "    'Cooler', 'Valve', 'Internal pump leakage',\n",
    "    'Hydraulic accumulator / bar', 'stable flag'\n",
    "]\n",
    "\n",
    "df_profile.columns = profile_headers\n",
    "df_profile"
   ]
  },
  {
   "cell_type": "code",
   "execution_count": 5,
   "metadata": {},
   "outputs": [
    {
     "data": {
      "text/plain": [
       "'\\n\\nThe target condition values are cycle-wise annotated in â€˜profile.txtâ€˜ (tab-delimited).\\nAs before, the row number represents the cycle number. The columns are\\n\\n1: Cooler condition / %:\\n3: close to total failure\\n20: reduced effifiency\\n100: full efficiency\\n\\n2: Valve condition / %:\\n100: optimal switching behavior\\n90: small lag\\n80: severe lag\\n73: close to total failure\\n\\n3: Internal pump leakage:\\n0: no leakage\\n1: weak leakage\\n2: severe leakage\\n\\n4: Hydraulic accumulator / bar:\\n130: optimal pressure\\n115: slightly reduced pressure\\n100: severely reduced pressure\\n90: close to total failure\\n\\n5: stable flag:\\n0: conditions were stable\\n1: static conditions might not have been reached yet\\n\\n'"
      ]
     },
     "execution_count": 5,
     "metadata": {},
     "output_type": "execute_result"
    }
   ],
   "source": [
    "'''\n",
    "\n",
    "The target condition values are cycle-wise annotated in â€˜profile.txtâ€˜ (tab-delimited).\n",
    "As before, the row number represents the cycle number. The columns are\n",
    "\n",
    "1: Cooler condition / %:\n",
    "3: close to total failure\n",
    "20: reduced effifiency\n",
    "100: full efficiency\n",
    "\n",
    "2: Valve condition / %:\n",
    "100: optimal switching behavior\n",
    "90: small lag\n",
    "80: severe lag\n",
    "73: close to total failure\n",
    "\n",
    "3: Internal pump leakage:\n",
    "0: no leakage\n",
    "1: weak leakage\n",
    "2: severe leakage\n",
    "\n",
    "4: Hydraulic accumulator / bar:\n",
    "130: optimal pressure\n",
    "115: slightly reduced pressure\n",
    "100: severely reduced pressure\n",
    "90: close to total failure\n",
    "\n",
    "5: stable flag:\n",
    "0: conditions were stable\n",
    "1: static conditions might not have been reached yet\n",
    "\n",
    "'''"
   ]
  },
  {
   "cell_type": "code",
   "execution_count": null,
   "metadata": {},
   "outputs": [],
   "source": []
  },
  {
   "cell_type": "code",
   "execution_count": null,
   "metadata": {},
   "outputs": [],
   "source": []
  }
 ],
 "metadata": {
  "hide_input": false,
  "kernelspec": {
   "display_name": "Python 3",
   "language": "python",
   "name": "python3"
  },
  "language_info": {
   "codemirror_mode": {
    "name": "ipython",
    "version": 3
   },
   "file_extension": ".py",
   "mimetype": "text/x-python",
   "name": "python",
   "nbconvert_exporter": "python",
   "pygments_lexer": "ipython3",
   "version": "3.7.6"
  },
  "toc": {
   "base_numbering": 1,
   "nav_menu": {},
   "number_sections": true,
   "sideBar": true,
   "skip_h1_title": false,
   "title_cell": "Table of Contents",
   "title_sidebar": "Contents",
   "toc_cell": false,
   "toc_position": {},
   "toc_section_display": true,
   "toc_window_display": false
  },
  "varInspector": {
   "cols": {
    "lenName": 16,
    "lenType": 16,
    "lenVar": 40
   },
   "kernels_config": {
    "python": {
     "delete_cmd_postfix": "",
     "delete_cmd_prefix": "del ",
     "library": "var_list.py",
     "varRefreshCmd": "print(var_dic_list())"
    },
    "r": {
     "delete_cmd_postfix": ") ",
     "delete_cmd_prefix": "rm(",
     "library": "var_list.r",
     "varRefreshCmd": "cat(var_dic_list()) "
    }
   },
   "types_to_exclude": [
    "module",
    "function",
    "builtin_function_or_method",
    "instance",
    "_Feature"
   ],
   "window_display": false
  }
 },
 "nbformat": 4,
 "nbformat_minor": 4
}
